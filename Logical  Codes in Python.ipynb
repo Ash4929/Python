{
 "cells": [
  {
   "cell_type": "markdown",
   "metadata": {},
   "source": [
    "**Converting list into string**"
   ]
  },
  {
   "cell_type": "code",
   "execution_count": 134,
   "metadata": {},
   "outputs": [],
   "source": [
    "lst=['John', 'is', 'my', 'name', 'and', 'my', 'complete', 'name', 'is', 'John Due']"
   ]
  },
  {
   "cell_type": "code",
   "execution_count": 135,
   "metadata": {},
   "outputs": [
    {
     "data": {
      "text/plain": [
       "'John is my name and my complete name is John Due'"
      ]
     },
     "execution_count": 135,
     "metadata": {},
     "output_type": "execute_result"
    }
   ],
   "source": [
    "' '.join(lst)"
   ]
  },
  {
   "cell_type": "markdown",
   "metadata": {},
   "source": [
    "**Count of occurance of a element from List   +    Count of all element**"
   ]
  },
  {
   "cell_type": "code",
   "execution_count": 136,
   "metadata": {},
   "outputs": [
    {
     "data": {
      "text/plain": [
       "2"
      ]
     },
     "execution_count": 136,
     "metadata": {},
     "output_type": "execute_result"
    }
   ],
   "source": [
    "lst.count('name')"
   ]
  },
  {
   "cell_type": "code",
   "execution_count": 137,
   "metadata": {},
   "outputs": [
    {
     "data": {
      "text/plain": [
       "[['and', 1],\n",
       " ['John Due', 1],\n",
       " ['John', 1],\n",
       " ['is', 2],\n",
       " ['my', 2],\n",
       " ['name', 2],\n",
       " ['complete', 1]]"
      ]
     },
     "execution_count": 137,
     "metadata": {},
     "output_type": "execute_result"
    }
   ],
   "source": [
    "[[x , lst.count(x)] for x in set(lst)]"
   ]
  },
  {
   "cell_type": "markdown",
   "metadata": {},
   "source": [
    " **Print last chracter of a string **"
   ]
  },
  {
   "cell_type": "code",
   "execution_count": 138,
   "metadata": {},
   "outputs": [
    {
     "data": {
      "text/plain": [
       "'e'"
      ]
     },
     "execution_count": 138,
     "metadata": {},
     "output_type": "execute_result"
    }
   ],
   "source": [
    "lst[-1][-1]"
   ]
  },
  {
   "cell_type": "markdown",
   "metadata": {},
   "source": [
    " **Comparing element of 2 strings **"
   ]
  },
  {
   "cell_type": "code",
   "execution_count": 139,
   "metadata": {},
   "outputs": [],
   "source": [
    "str1='Make', 'the', 'world', 'a', 'better', 'place'\n",
    "str2='Make', 'the', 'world', 'a', 'best', 'place'\n",
    "str3='World', 'war', 'make', 'the', 'world', 'worst'"
   ]
  },
  {
   "cell_type": "code",
   "execution_count": 140,
   "metadata": {},
   "outputs": [
    {
     "data": {
      "text/plain": [
       "{'Make', 'a', 'place', 'the', 'world'}"
      ]
     },
     "execution_count": 140,
     "metadata": {},
     "output_type": "execute_result"
    }
   ],
   "source": [
    "set(str1) & set(str2)"
   ]
  },
  {
   "cell_type": "code",
   "execution_count": 141,
   "metadata": {},
   "outputs": [
    {
     "data": {
      "text/plain": [
       "{'the', 'world'}"
      ]
     },
     "execution_count": 141,
     "metadata": {},
     "output_type": "execute_result"
    }
   ],
   "source": [
    "set(str1) & set(str3)"
   ]
  },
  {
   "cell_type": "markdown",
   "metadata": {},
   "source": [
    "**Convert 'India' to 'PpYyTtHhOoNn'**"
   ]
  },
  {
   "cell_type": "code",
   "execution_count": null,
   "metadata": {},
   "outputs": [],
   "source": [
    "str= input(\"Enter any Word: \")\n",
    "res=''\n",
    "for i in str:\n",
    "    up=i.upper()\n",
    "    low=i.lower()\n",
    "    res=res+up+low\n",
    "print(res)    "
   ]
  },
  {
   "cell_type": "markdown",
   "metadata": {},
   "source": [
    " **Creating Random numbers  [1.Any random Numbr, 2. Between 1, 10 (Float)    3. Between 1,10  (Integer) **"
   ]
  },
  {
   "cell_type": "code",
   "execution_count": 143,
   "metadata": {},
   "outputs": [
    {
     "data": {
      "text/plain": [
       "9"
      ]
     },
     "execution_count": 143,
     "metadata": {},
     "output_type": "execute_result"
    }
   ],
   "source": [
    "import random as random\n",
    "\n",
    "random.random()\n",
    "\n",
    "random.uniform(1,10)\n",
    "\n",
    "random.randint(1,10)"
   ]
  },
  {
   "cell_type": "markdown",
   "metadata": {},
   "source": [
    "**Creating Sequence of Number**"
   ]
  },
  {
   "cell_type": "code",
   "execution_count": 144,
   "metadata": {},
   "outputs": [
    {
     "data": {
      "text/plain": [
       "[1, 2, 3, 4, 5, 6, 7, 8, 9]"
      ]
     },
     "execution_count": 144,
     "metadata": {},
     "output_type": "execute_result"
    }
   ],
   "source": [
    "list(range(1,10))"
   ]
  },
  {
   "cell_type": "markdown",
   "metadata": {},
   "source": [
    "**Range of Number using For Loop**"
   ]
  },
  {
   "cell_type": "code",
   "execution_count": 145,
   "metadata": {},
   "outputs": [
    {
     "name": "stdout",
     "output_type": "stream",
     "text": [
      "1\n",
      "2\n",
      "3\n",
      "4\n",
      "5\n",
      "6\n",
      "7\n",
      "8\n",
      "9\n",
      "10\n"
     ]
    }
   ],
   "source": [
    "for i in range(1,11):\n",
    "    print(i)"
   ]
  },
  {
   "cell_type": "code",
   "execution_count": null,
   "metadata": {},
   "outputs": [],
   "source": []
  },
  {
   "cell_type": "markdown",
   "metadata": {},
   "source": [
    "# Logical Codes"
   ]
  },
  {
   "cell_type": "markdown",
   "metadata": {},
   "source": [
    "**Find Avg of all numbers in a List** "
   ]
  },
  {
   "cell_type": "code",
   "execution_count": 146,
   "metadata": {},
   "outputs": [
    {
     "name": "stdout",
     "output_type": "stream",
     "text": [
      "4.5\n",
      "4.5\n"
     ]
    }
   ],
   "source": [
    "Tot=0\n",
    "Avg=0\n",
    "Avvg=0\n",
    "for i in range(1,10):\n",
    "    Tot=Tot+i\n",
    "    Avg=Tot/len(lst)\n",
    "    Avvg=Avvg+i/len(lst)\n",
    "print(Avg)\n",
    "print(Avvg)"
   ]
  },
  {
   "cell_type": "markdown",
   "metadata": {},
   "source": [
    "**Count number of Digit in a given Number**"
   ]
  },
  {
   "cell_type": "code",
   "execution_count": null,
   "metadata": {},
   "outputs": [],
   "source": [
    "N=int(input(\"Please Enter any Number: \"))\n",
    "Cnt=0\n",
    "while (N>0):\n",
    "    Cnt=Cnt+1\n",
    "    N=N//10\n",
    "print(Cnt)    "
   ]
  },
  {
   "cell_type": "markdown",
   "metadata": {},
   "source": [
    " **Sum number of Digit in a given Number**"
   ]
  },
  {
   "cell_type": "code",
   "execution_count": null,
   "metadata": {},
   "outputs": [],
   "source": [
    "n=int(input(\"Enter and number: \"))\n",
    "tot=0\n",
    "while n>0:\n",
    "    div=n%10\n",
    "    tot=tot+div\n",
    "    n=n//10\n",
    "print(tot)    \n"
   ]
  },
  {
   "cell_type": "markdown",
   "metadata": {},
   "source": [
    "**Table of a given Number** "
   ]
  },
  {
   "cell_type": "code",
   "execution_count": null,
   "metadata": {},
   "outputs": [],
   "source": [
    "n=int(input(\"Enter any Number: \"))\n",
    "mul=0\n",
    "for i in range(1, 11):\n",
    "    mul=i*n\n",
    "    print(f'{n} * {i} = {mul}')    \n",
    "    "
   ]
  },
  {
   "cell_type": "markdown",
   "metadata": {},
   "source": [
    "**Identifying a number is Odd/Even**"
   ]
  },
  {
   "cell_type": "code",
   "execution_count": null,
   "metadata": {},
   "outputs": [],
   "source": [
    "n=int(input(\"Enter any Number\"))\n",
    "if n%2==0:\n",
    "    print('Number is Even')\n",
    "else:\n",
    "    print('Number is Odd')"
   ]
  },
  {
   "cell_type": "markdown",
   "metadata": {},
   "source": [
    "**Segrigating Even/Odd from a given List of Numbers**"
   ]
  },
  {
   "cell_type": "code",
   "execution_count": null,
   "metadata": {},
   "outputs": [],
   "source": [
    "Eve=[]\n",
    "Od=[]\n",
    "for i in range(1,15):\n",
    "    if i%2==0:\n",
    "        Eve.append(i)\n",
    "    else:\n",
    "        Od.append(i)\n",
    "print(f'These are the list of Even Numbers: {Eve}')\n",
    "print(f'These are the list of Odd Numbers: {Od}')"
   ]
  },
  {
   "cell_type": "markdown",
   "metadata": {},
   "source": [
    "**Palinfrome of a given Number**"
   ]
  },
  {
   "cell_type": "code",
   "execution_count": null,
   "metadata": {},
   "outputs": [],
   "source": [
    "n=int(input(\"Enter anu Number: \"))\n",
    "rev=0\n",
    "while (n>0):\n",
    "    div=n%10\n",
    "    rev=rev*10+div\n",
    "    n=n//10\n",
    "print(rev)    "
   ]
  },
  {
   "cell_type": "markdown",
   "metadata": {},
   "source": [
    "**Palindrome of a String**"
   ]
  },
  {
   "cell_type": "code",
   "execution_count": null,
   "metadata": {},
   "outputs": [],
   "source": [
    "str='Tiger'\n",
    "rev=''\n",
    "for i in str:\n",
    "    rev=i+rev\n",
    "print(rev)    \n",
    "    \n"
   ]
  },
  {
   "cell_type": "markdown",
   "metadata": {},
   "source": [
    "**Identifying if a given string is Palindrome or Not?**"
   ]
  },
  {
   "cell_type": "code",
   "execution_count": null,
   "metadata": {},
   "outputs": [],
   "source": [
    "str='AkA'\n",
    "if str==str[::-1]:\n",
    "    print(f'Yes, \"{str}\" is a palindrome')\n",
    "else:\n",
    "    print('No, not a Palindrome string')"
   ]
  },
  {
   "cell_type": "markdown",
   "metadata": {},
   "source": [
    "**Indentifying if a letter is Vowel or not?**"
   ]
  },
  {
   "cell_type": "code",
   "execution_count": null,
   "metadata": {},
   "outputs": [],
   "source": [
    "str=input(\"Please enter any letter: \").lower()\n",
    "if str =='a' or str =='e' or str =='i' or str =='o' or str =='u':\n",
    "    print('Yes, it is Vowel')\n",
    "else:\n",
    "    print('Not a Vowel')\n"
   ]
  },
  {
   "cell_type": "markdown",
   "metadata": {},
   "source": [
    "**Segrigating Vowel and Non-Vowel**"
   ]
  },
  {
   "cell_type": "code",
   "execution_count": null,
   "metadata": {},
   "outputs": [],
   "source": [
    "str='ashish'\n",
    "vol=[]\n",
    "con=[]\n",
    "for i in str:\n",
    "    if i=='a' or i=='e' or i=='i' or i=='o' or i=='u':\n",
    "        vol.append(i)\n",
    "    else:\n",
    "        con.append(i)\n",
    "print(f'list of Vowels are: {vol}')\n",
    "print(f'list of Consonene=ts are: {con}')\n",
    "    "
   ]
  },
  {
   "cell_type": "markdown",
   "metadata": {},
   "source": [
    "**Identifying a Perfect Number**\n",
    "-- A Perfect number is Positive Integer ie Equal to Sum of Its Proper Div(except sbe same number)\n",
    "-- Eg. 6, it is proper div by 1,2 and 3. So, 1+2+3=6 , so 6 is Perfect Number"
   ]
  },
  {
   "cell_type": "code",
   "execution_count": null,
   "metadata": {},
   "outputs": [],
   "source": [
    "n=int(input(\"Enter any Number: \"))\n",
    "tot=0\n",
    "for i in range(1,n):\n",
    "    if n%i==0:\n",
    "        tot=tot+i\n",
    "if tot==n:\n",
    "    print(f'Yes, {n} is a Perfect Number ')\n",
    "else:\n",
    "    print('Not a Perfect Number')"
   ]
  },
  {
   "cell_type": "markdown",
   "metadata": {},
   "source": [
    "**Identifying a Prime Number**\n",
    "-- A Prime number is Positive Integer ie Proper Div by itself only(except 1)\n",
    "-- Eg. 7, it is proper div by only self i.e 7. "
   ]
  },
  {
   "cell_type": "code",
   "execution_count": null,
   "metadata": {},
   "outputs": [],
   "source": [
    "n= int(input(\"Enter any Number: \"))\n",
    "\n",
    "for i in range(2,n):\n",
    "    if n%i==0:\n",
    "        print('Not a Prime Number')\n",
    "        break\n",
    "else:    \n",
    "    print('Yes, It is a Prime Number')        "
   ]
  },
  {
   "cell_type": "code",
   "execution_count": null,
   "metadata": {},
   "outputs": [],
   "source": []
  },
  {
   "cell_type": "code",
   "execution_count": null,
   "metadata": {},
   "outputs": [],
   "source": []
  }
 ],
 "metadata": {
  "kernelspec": {
   "display_name": "Python 3",
   "language": "python",
   "name": "python3"
  },
  "language_info": {
   "codemirror_mode": {
    "name": "ipython",
    "version": 3
   },
   "file_extension": ".py",
   "mimetype": "text/x-python",
   "name": "python",
   "nbconvert_exporter": "python",
   "pygments_lexer": "ipython3",
   "version": "3.7.6"
  }
 },
 "nbformat": 4,
 "nbformat_minor": 4
}
